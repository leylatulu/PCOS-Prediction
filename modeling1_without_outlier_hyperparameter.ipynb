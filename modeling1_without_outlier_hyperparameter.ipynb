{
 "cells": [
  {
   "cell_type": "code",
   "execution_count": 1,
   "metadata": {},
   "outputs": [],
   "source": [
    "import numpy as np\n",
    "import pandas as pd \n",
    "pd.set_option('display.max_columns', 500)\n",
    "pd.set_option('display.max_rows', None)\n",
    "import seaborn as sns\n",
    "import matplotlib.pyplot as plt\n",
    "from sklearn.model_selection import train_test_split, GridSearchCV\n",
    "from sklearn.preprocessing import StandardScaler\n",
    "from sklearn.metrics import accuracy_score, confusion_matrix, ConfusionMatrixDisplay, classification_report, roc_auc_score, roc_curve, auc, f1_score, jaccard_score\n",
    "from sklearn.metrics import precision_score, recall_score\n",
    "from sklearn.linear_model import LogisticRegression\n",
    "from sklearn.svm import SVC\n",
    "from sklearn.tree import DecisionTreeClassifier\n",
    "from sklearn.ensemble import RandomForestClassifier\n",
    "from xgboost import XGBClassifier\n",
    "from lightgbm import LGBMClassifier\n",
    "import warnings\n",
    "warnings.filterwarnings(\"ignore\")"
   ]
  },
  {
   "cell_type": "code",
   "execution_count": 2,
   "metadata": {},
   "outputs": [],
   "source": [
    "data = pd.read_csv(\"../SistersLab-Project/PCOS_data.csv\")\n",
    "df = data.drop([\"Sl. No\", \"Patient File No.\",  \"Unnamed: 44\"], axis=1)"
   ]
  },
  {
   "cell_type": "code",
   "execution_count": 3,
   "metadata": {},
   "outputs": [],
   "source": [
    "df.rename(columns={'Height(Cm) ': 'Height(Cm)'}, inplace=True)\n",
    "df.rename(columns={'Marraige Status (Yrs)': 'Marriage Status (Yrs)'}, inplace=True)\n",
    "df.rename(columns={'Pulse rate(bpm) ': 'Pulse rate(bpm)'}, inplace=True)\n",
    "df.rename(columns={'II    beta-HCG(mIU/mL)': 'II_beta_HCG(mIU/mL)'}, inplace=True)\n",
    "df.rename(columns={' Age (yrs)': 'Age (yrs)'}, inplace=True)\n",
    "df.rename(columns={'  I   beta-HCG(mIU/mL)': 'I_beta_HCG(mIU/mL)'}, inplace=True)\n",
    "df.rename(columns={'No. of abortions': 'No_of_abortions'}, inplace=True)\n",
    "df.rename(columns={'BP _Systolic (mmHg)': 'BP_Systolic(mmHg)'}, inplace=True)\n",
    "df.rename(columns={'BP _Diastolic (mmHg)': 'BP_Diastolic(mmHg)'}, inplace=True)\n",
    "df.rename(columns={'Waist:Hip Ratio': 'WaistHip_Ratio'}, inplace=True)\n",
    "\n",
    "df.loc[df['II_beta_HCG(mIU/mL)'] == '1.99.', 'II_beta_HCG(mIU/mL)'] = 1.99\n",
    "df.loc[df['AMH(ng/mL)'] == 'a', 'AMH(ng/mL)'] = np.nan # eksik değer\n",
    "df['II_beta_HCG(mIU/mL)'] = pd.to_numeric(df['II_beta_HCG(mIU/mL)'], errors='coerce').astype('float64')\n",
    "df['AMH(ng/mL)'] = pd.to_numeric(df['AMH(ng/mL)'], errors='coerce').astype('float64')\n",
    "\n",
    "# df[df.index == 329]\n",
    "# df.drop(329, inplace=True);"
   ]
  },
  {
   "cell_type": "code",
   "execution_count": 4,
   "metadata": {},
   "outputs": [
    {
     "data": {
      "text/plain": [
       "PCOS (Y/N)               0\n",
       "Age (yrs)                0\n",
       "Weight (Kg)              0\n",
       "Height(Cm)               0\n",
       "BMI                      0\n",
       "Blood Group              0\n",
       "Pulse rate(bpm)          0\n",
       "RR (breaths/min)         0\n",
       "Hb(g/dl)                 0\n",
       "Cycle(R/I)               0\n",
       "Cycle length(days)       0\n",
       "Marriage Status (Yrs)    1\n",
       "Pregnant(Y/N)            0\n",
       "No_of_abortions          0\n",
       "I_beta_HCG(mIU/mL)       0\n",
       "II_beta_HCG(mIU/mL)      0\n",
       "FSH(mIU/mL)              0\n",
       "LH(mIU/mL)               0\n",
       "FSH/LH                   0\n",
       "Hip(inch)                0\n",
       "Waist(inch)              0\n",
       "WaistHip_Ratio           0\n",
       "TSH (mIU/L)              0\n",
       "AMH(ng/mL)               1\n",
       "PRL(ng/mL)               0\n",
       "Vit D3 (ng/mL)           0\n",
       "PRG(ng/mL)               0\n",
       "RBS(mg/dl)               0\n",
       "Weight gain(Y/N)         0\n",
       "hair growth(Y/N)         0\n",
       "Skin darkening (Y/N)     0\n",
       "Hair loss(Y/N)           0\n",
       "Pimples(Y/N)             0\n",
       "Fast food (Y/N)          1\n",
       "Reg.Exercise(Y/N)        0\n",
       "BP_Systolic(mmHg)        0\n",
       "BP_Diastolic(mmHg)       0\n",
       "Follicle No. (L)         0\n",
       "Follicle No. (R)         0\n",
       "Avg. F size (L) (mm)     0\n",
       "Avg. F size (R) (mm)     0\n",
       "Endometrium (mm)         0\n",
       "dtype: int64"
      ]
     },
     "execution_count": 4,
     "metadata": {},
     "output_type": "execute_result"
    }
   ],
   "source": [
    "df.isnull().sum()"
   ]
  },
  {
   "cell_type": "code",
   "execution_count": 5,
   "metadata": {},
   "outputs": [],
   "source": [
    "df[\"Marriage Status (Yrs)\"].fillna(df[\"Marriage Status (Yrs)\"].median(), inplace=True)\n",
    "df[\"AMH(ng/mL)\"].fillna(df[\"AMH(ng/mL)\"].median(), inplace=True)\n",
    "df[\"Fast food (Y/N)\"].fillna(df[\"Fast food (Y/N)\"].mode()[0], inplace=True)"
   ]
  },
  {
   "cell_type": "code",
   "execution_count": 6,
   "metadata": {},
   "outputs": [],
   "source": [
    "def outlier_thresholds(dataframe, col_name, q1=0.01, q3=0.99):\n",
    "    quartile1 = dataframe[col_name].quantile(q1)\n",
    "    quartile3 = dataframe[col_name].quantile(q3)\n",
    "    interquantile_range = quartile3 - quartile1\n",
    "    up_limit = quartile3 + 1.5 * interquantile_range\n",
    "    low_limit = quartile1 - 1.5 * interquantile_range\n",
    "    return low_limit, up_limit\n",
    "\n",
    "def replace_with_thresholds(dataframe, variable):\n",
    "    low_limit, up_limit = outlier_thresholds(dataframe, variable)\n",
    "    dataframe.loc[(dataframe[variable] < low_limit), variable] = low_limit\n",
    "    dataframe.loc[(dataframe[variable] > up_limit), variable] = up_limit\n",
    "\n",
    "def check_outlier(dataframe, col_name, q1=0.01, q3=0.99):\n",
    "    low_limit, up_limit = outlier_thresholds(dataframe, col_name, q1, q3)\n",
    "    if dataframe[(dataframe[col_name] > up_limit) | (dataframe[col_name] < low_limit)].any(axis=None):\n",
    "        return True\n",
    "    else:\n",
    "        return False"
   ]
  },
  {
   "cell_type": "code",
   "execution_count": 7,
   "metadata": {},
   "outputs": [],
   "source": [
    "num_cols = ['Age (yrs)', 'Weight (Kg)', 'Height(Cm)', 'BMI',\n",
    "       'Blood Group', 'Pulse rate(bpm)', 'RR (breaths/min)', 'Hb(g/dl)',\n",
    "        'Cycle length(days)', 'Marriage Status (Yrs)',\n",
    "       'Pregnant(Y/N)', 'No_of_abortions', 'I_beta_HCG(mIU/mL)',\n",
    "       'II_beta_HCG(mIU/mL)', 'FSH(mIU/mL)', 'LH(mIU/mL)', 'FSH/LH',\n",
    "       'Hip(inch)', 'Waist(inch)', 'WaistHip_Ratio', 'TSH (mIU/L)',\n",
    "       'AMH(ng/mL)', 'PRL(ng/mL)', 'Vit D3 (ng/mL)', 'PRG(ng/mL)',\n",
    "       'RBS(mg/dl)', 'BP_Systolic(mmHg)',\n",
    "       'BP_Diastolic(mmHg)', 'Follicle No. (L)', 'Follicle No. (R)',\n",
    "       'Avg. F size (L) (mm)', 'Avg. F size (R) (mm)', 'Endometrium (mm)']"
   ]
  },
  {
   "cell_type": "code",
   "execution_count": 8,
   "metadata": {},
   "outputs": [
    {
     "name": "stdout",
     "output_type": "stream",
     "text": [
      "Age (yrs) False\n",
      "Weight (Kg) False\n",
      "Height(Cm) False\n",
      "BMI False\n",
      "Blood Group False\n",
      "Pulse rate(bpm) True\n",
      "RR (breaths/min) False\n",
      "Hb(g/dl) False\n",
      "Cycle length(days) False\n",
      "Marriage Status (Yrs) False\n",
      "Pregnant(Y/N) False\n",
      "No_of_abortions False\n",
      "I_beta_HCG(mIU/mL) False\n",
      "II_beta_HCG(mIU/mL) True\n",
      "FSH(mIU/mL) True\n",
      "LH(mIU/mL) True\n",
      "FSH/LH True\n",
      "Hip(inch) False\n",
      "Waist(inch) False\n",
      "WaistHip_Ratio False\n",
      "TSH (mIU/L) True\n",
      "AMH(ng/mL) True\n",
      "PRL(ng/mL) False\n",
      "Vit D3 (ng/mL) True\n",
      "PRG(ng/mL) True\n",
      "RBS(mg/dl) True\n",
      "BP_Systolic(mmHg) True\n",
      "BP_Diastolic(mmHg) True\n",
      "Follicle No. (L) False\n",
      "Follicle No. (R) False\n",
      "Avg. F size (L) (mm) False\n",
      "Avg. F size (R) (mm) False\n",
      "Endometrium (mm) False\n"
     ]
    }
   ],
   "source": [
    "for col in num_cols:\n",
    "    print(col, check_outlier(df, col, 0.01, 0.99))"
   ]
  },
  {
   "cell_type": "code",
   "execution_count": 9,
   "metadata": {},
   "outputs": [],
   "source": [
    "replace_with_thresholds(df, \"II_beta_HCG(mIU/mL)\")\n",
    "replace_with_thresholds(df, \"FSH(mIU/mL)\")\n",
    "replace_with_thresholds(df, \"FSH/LH\")\n",
    "replace_with_thresholds(df, \"TSH (mIU/L)\")\n",
    "replace_with_thresholds(df, \"PRL(ng/mL)\")\n",
    "replace_with_thresholds(df, \"PRG(ng/mL)\")"
   ]
  },
  {
   "cell_type": "markdown",
   "metadata": {},
   "source": [
    "I_beta_HCG(mIU/mL) True\n",
    "II_beta_HCG(mIU/mL) True\n",
    "\n",
    "FSH(mIU/mL) True\n",
    "\n",
    "FSH/LH True\n",
    "TSH (mIU/L) True >> non pcos\n",
    "\n",
    "PRL(ng/mL) True non pcos\n",
    "PRG(ng/mL) True non pcos\n",
    "\n",
    "BP_Systolic(mmHg) True\n",
    "BP_Diastolic(mmHg) True\n",
    "\n",
    "LH(mIU/mL) True >> pcoslu\n",
    "AMH(ng/mL) True >> 66.00 pcoslu\n",
    "RBS(mg/dl) True >> burada 350 değeri pcoslu biri\n",
    "Vit D3 (ng/mL) True >> 6014.66 pcoslu"
   ]
  },
  {
   "cell_type": "code",
   "execution_count": 10,
   "metadata": {},
   "outputs": [],
   "source": [
    "df.drop([\"I_beta_HCG(mIU/mL)\", \"II_beta_HCG(mIU/mL)\"], axis=1, inplace=True)"
   ]
  },
  {
   "cell_type": "code",
   "execution_count": 11,
   "metadata": {},
   "outputs": [],
   "source": [
    "y = df[[\"PCOS (Y/N)\"]]\n",
    "X = df.drop(\"PCOS (Y/N)\", axis=1)\n",
    "X_train, X_test, y_train, y_test = train_test_split(X, y, test_size=0.2, random_state=100, stratify=y)"
   ]
  },
  {
   "cell_type": "code",
   "execution_count": 12,
   "metadata": {},
   "outputs": [],
   "source": [
    "cols = ['Age (yrs)', 'Weight (Kg)', 'Height(Cm)', 'BMI', 'Blood Group',\n",
    "       'Pulse rate(bpm)', 'RR (breaths/min)', 'Hb(g/dl)', 'Cycle(R/I)',\n",
    "       'Cycle length(days)', 'Marriage Status (Yrs)', 'Pregnant(Y/N)',\n",
    "       'No_of_abortions',\n",
    "       'FSH(mIU/mL)', 'LH(mIU/mL)', 'FSH/LH', 'Hip(inch)', 'Waist(inch)',\n",
    "       'WaistHip_Ratio', 'TSH (mIU/L)', 'AMH(ng/mL)', 'PRL(ng/mL)',\n",
    "       'Vit D3 (ng/mL)', 'PRG(ng/mL)', 'RBS(mg/dl)', 'Weight gain(Y/N)',\n",
    "       'hair growth(Y/N)', 'Skin darkening (Y/N)', 'Hair loss(Y/N)',\n",
    "       'Pimples(Y/N)', 'Fast food (Y/N)', 'Reg.Exercise(Y/N)',\n",
    "       'BP_Systolic(mmHg)', 'BP_Diastolic(mmHg)', 'Follicle No. (L)',\n",
    "       'Follicle No. (R)', 'Avg. F size (L) (mm)', 'Avg. F size (R) (mm)',\n",
    "       'Endometrium (mm)']\n",
    "\n",
    "sc = StandardScaler()\n",
    "for col in cols:\n",
    "    X_train[col] = sc.fit_transform(X_train[[col]])\n",
    "    X_test[col] = sc.transform(X_test[[col]])"
   ]
  },
  {
   "cell_type": "code",
   "execution_count": 13,
   "metadata": {},
   "outputs": [],
   "source": [
    "from sklearn.model_selection import train_test_split, cross_val_score, GridSearchCV, StratifiedKFold"
   ]
  },
  {
   "cell_type": "code",
   "execution_count": 41,
   "metadata": {},
   "outputs": [
    {
     "name": "stdout",
     "output_type": "stream",
     "text": [
      "Logistic Regression classification report : \n",
      "               precision    recall  f1-score   support\n",
      "\n",
      "           0       0.92      1.00      0.96        73\n",
      "           1       1.00      0.83      0.91        36\n",
      "\n",
      "    accuracy                           0.94       109\n",
      "   macro avg       0.96      0.92      0.93       109\n",
      "weighted avg       0.95      0.94      0.94       109\n",
      "\n"
     ]
    },
    {
     "data": {
      "image/png": "[encoded data removed]",
      "text/plain": [
       "<Figure size 600x400 with 2 Axes>"
      ]
     },
     "metadata": {},
     "output_type": "display_data"
    },
    {
     "name": "stdout",
     "output_type": "stream",
     "text": [
      "SVM classification report : \n",
      "               precision    recall  f1-score   support\n",
      "\n",
      "           0       0.89      1.00      0.94        73\n",
      "           1       1.00      0.75      0.86        36\n",
      "\n",
      "    accuracy                           0.92       109\n",
      "   macro avg       0.95      0.88      0.90       109\n",
      "weighted avg       0.93      0.92      0.91       109\n",
      "\n"
     ]
    },
    {
     "data": {
      "image/png": "[encoded data removed]",
      "text/plain": [
       "<Figure size 600x400 with 2 Axes>"
      ]
     },
     "metadata": {},
     "output_type": "display_data"
    },
    {
     "name": "stdout",
     "output_type": "stream",
     "text": [
      "Decision Tree classification report : \n",
      "               precision    recall  f1-score   support\n",
      "\n",
      "           0       0.87      0.92      0.89        73\n",
      "           1       0.81      0.72      0.76        36\n",
      "\n",
      "    accuracy                           0.85       109\n",
      "   macro avg       0.84      0.82      0.83       109\n",
      "weighted avg       0.85      0.85      0.85       109\n",
      "\n"
     ]
    },
    {
     "data": {
      "image/png": "[encoded data removed]",
      "text/plain": [
       "<Figure size 600x400 with 2 Axes>"
      ]
     },
     "metadata": {},
     "output_type": "display_data"
    },
    {
     "name": "stdout",
     "output_type": "stream",
     "text": [
      "Random Forest classification report : \n",
      "               precision    recall  f1-score   support\n",
      "\n",
      "           0       0.92      1.00      0.96        73\n",
      "           1       1.00      0.83      0.91        36\n",
      "\n",
      "    accuracy                           0.94       109\n",
      "   macro avg       0.96      0.92      0.93       109\n",
      "weighted avg       0.95      0.94      0.94       109\n",
      "\n"
     ]
    },
    {
     "data": {
      "image/png": "[encoded data removed]",
      "text/plain": [
       "<Figure size 600x400 with 2 Axes>"
      ]
     },
     "metadata": {},
     "output_type": "display_data"
    },
    {
     "name": "stdout",
     "output_type": "stream",
     "text": [
      "[LightGBM] [Warning] Found whitespace in feature_names, replace with underlines\n",
      "[LightGBM] [Info] Number of positive: 141, number of negative: 291\n",
      "[LightGBM] [Info] Auto-choosing col-wise multi-threading, the overhead of testing was 0.000396 seconds.\n",
      "You can set `force_col_wise=true` to remove the overhead.\n",
      "[LightGBM] [Info] Total Bins 1566\n",
      "[LightGBM] [Info] Number of data points in the train set: 432, number of used features: 39\n",
      "[LightGBM] [Info] [binary:BoostFromScore]: pavg=0.326389 -> initscore=-0.724563\n",
      "[LightGBM] [Info] Start training from score -0.724563\n",
      "[LightGBM] [Warning] No further splits with positive gain, best gain: -inf\n",
      "[LightGBM] [Warning] No further splits with positive gain, best gain: -inf\n",
      "[LightGBM] [Warning] No further splits with positive gain, best gain: -inf\n",
      "[LightGBM] [Warning] No further splits with positive gain, best gain: -inf\n",
      "[LightGBM] [Warning] No further splits with positive gain, best gain: -inf\n",
      "[LightGBM] [Warning] No further splits with positive gain, best gain: -inf\n",
      "[LightGBM] [Warning] No further splits with positive gain, best gain: -inf\n",
      "[LightGBM] [Warning] No further splits with positive gain, best gain: -inf\n",
      "[LightGBM] [Warning] No further splits with positive gain, best gain: -inf\n",
      "[LightGBM] [Warning] No further splits with positive gain, best gain: -inf\n",
      "[LightGBM] [Warning] No further splits with positive gain, best gain: -inf\n",
      "[LightGBM] [Warning] No further splits with positive gain, best gain: -inf\n",
      "[LightGBM] [Warning] No further splits with positive gain, best gain: -inf\n",
      "[LightGBM] [Warning] No further splits with positive gain, best gain: -inf\n",
      "[LightGBM] [Warning] No further splits with positive gain, best gain: -inf\n",
      "[LightGBM] [Warning] No further splits with positive gain, best gain: -inf\n",
      "[LightGBM] [Warning] No further splits with positive gain, best gain: -inf\n",
      "[LightGBM] [Warning] No further splits with positive gain, best gain: -inf\n",
      "[LightGBM] [Warning] No further splits with positive gain, best gain: -inf\n",
      "[LightGBM] [Warning] No further splits with positive gain, best gain: -inf\n",
      "[LightGBM] [Warning] No further splits with positive gain, best gain: -inf\n",
      "[LightGBM] [Warning] No further splits with positive gain, best gain: -inf\n",
      "[LightGBM] [Warning] No further splits with positive gain, best gain: -inf\n",
      "[LightGBM] [Warning] No further splits with positive gain, best gain: -inf\n",
      "[LightGBM] [Warning] No further splits with positive gain, best gain: -inf\n",
      "[LightGBM] [Warning] No further splits with positive gain, best gain: -inf\n",
      "[LightGBM] [Warning] No further splits with positive gain, best gain: -inf\n",
      "[LightGBM] [Warning] No further splits with positive gain, best gain: -inf\n",
      "[LightGBM] [Warning] No further splits with positive gain, best gain: -inf\n",
      "[LightGBM] [Warning] No further splits with positive gain, best gain: -inf\n",
      "[LightGBM] [Warning] No further splits with positive gain, best gain: -inf\n",
      "[LightGBM] [Warning] No further splits with positive gain, best gain: -inf\n",
      "[LightGBM] [Warning] No further splits with positive gain, best gain: -inf\n",
      "[LightGBM] [Warning] No further splits with positive gain, best gain: -inf\n",
      "[LightGBM] [Warning] No further splits with positive gain, best gain: -inf\n",
      "[LightGBM] [Warning] No further splits with positive gain, best gain: -inf\n",
      "[LightGBM] [Warning] No further splits with positive gain, best gain: -inf\n",
      "[LightGBM] [Warning] No further splits with positive gain, best gain: -inf\n",
      "[LightGBM] [Warning] No further splits with positive gain, best gain: -inf\n",
      "[LightGBM] [Warning] No further splits with positive gain, best gain: -inf\n",
      "[LightGBM] [Warning] No further splits with positive gain, best gain: -inf\n",
      "[LightGBM] [Warning] No further splits with positive gain, best gain: -inf\n",
      "[LightGBM] [Warning] No further splits with positive gain, best gain: -inf\n",
      "[LightGBM] [Warning] No further splits with positive gain, best gain: -inf\n",
      "[LightGBM] [Warning] No further splits with positive gain, best gain: -inf\n",
      "[LightGBM] [Warning] No further splits with positive gain, best gain: -inf\n",
      "[LightGBM] [Warning] No further splits with positive gain, best gain: -inf\n",
      "[LightGBM] [Warning] No further splits with positive gain, best gain: -inf\n",
      "[LightGBM] [Warning] No further splits with positive gain, best gain: -inf\n",
      "[LightGBM] [Warning] No further splits with positive gain, best gain: -inf\n",
      "[LightGBM] [Warning] No further splits with positive gain, best gain: -inf\n",
      "[LightGBM] [Warning] No further splits with positive gain, best gain: -inf\n",
      "[LightGBM] [Warning] No further splits with positive gain, best gain: -inf\n",
      "[LightGBM] [Warning] No further splits with positive gain, best gain: -inf\n",
      "[LightGBM] [Warning] No further splits with positive gain, best gain: -inf\n",
      "[LightGBM] [Warning] No further splits with positive gain, best gain: -inf\n",
      "[LightGBM] [Warning] No further splits with positive gain, best gain: -inf\n",
      "[LightGBM] [Warning] No further splits with positive gain, best gain: -inf\n",
      "[LightGBM] [Warning] No further splits with positive gain, best gain: -inf\n",
      "[LightGBM] [Warning] No further splits with positive gain, best gain: -inf\n",
      "[LightGBM] [Warning] No further splits with positive gain, best gain: -inf\n",
      "[LightGBM] [Warning] No further splits with positive gain, best gain: -inf\n",
      "[LightGBM] [Warning] No further splits with positive gain, best gain: -inf\n",
      "[LightGBM] [Warning] No further splits with positive gain, best gain: -inf\n",
      "[LightGBM] [Warning] No further splits with positive gain, best gain: -inf\n",
      "[LightGBM] [Warning] No further splits with positive gain, best gain: -inf\n",
      "[LightGBM] [Warning] No further splits with positive gain, best gain: -inf\n",
      "[LightGBM] [Warning] No further splits with positive gain, best gain: -inf\n",
      "[LightGBM] [Warning] No further splits with positive gain, best gain: -inf\n",
      "[LightGBM] [Warning] No further splits with positive gain, best gain: -inf\n",
      "[LightGBM] [Warning] No further splits with positive gain, best gain: -inf\n",
      "[LightGBM] [Warning] No further splits with positive gain, best gain: -inf\n",
      "[LightGBM] [Warning] No further splits with positive gain, best gain: -inf\n",
      "[LightGBM] [Warning] No further splits with positive gain, best gain: -inf\n",
      "[LightGBM] [Warning] No further splits with positive gain, best gain: -inf\n",
      "[LightGBM] [Warning] No further splits with positive gain, best gain: -inf\n",
      "[LightGBM] [Warning] No further splits with positive gain, best gain: -inf\n",
      "[LightGBM] [Warning] No further splits with positive gain, best gain: -inf\n",
      "[LightGBM] [Warning] No further splits with positive gain, best gain: -inf\n",
      "[LightGBM] [Warning] No further splits with positive gain, best gain: -inf\n",
      "[LightGBM] [Warning] No further splits with positive gain, best gain: -inf\n",
      "[LightGBM] [Warning] No further splits with positive gain, best gain: -inf\n",
      "[LightGBM] [Warning] No further splits with positive gain, best gain: -inf\n",
      "[LightGBM] [Warning] No further splits with positive gain, best gain: -inf\n",
      "[LightGBM] [Warning] No further splits with positive gain, best gain: -inf\n",
      "[LightGBM] [Warning] No further splits with positive gain, best gain: -inf\n",
      "[LightGBM] [Warning] No further splits with positive gain, best gain: -inf\n",
      "[LightGBM] [Warning] No further splits with positive gain, best gain: -inf\n",
      "[LightGBM] [Warning] No further splits with positive gain, best gain: -inf\n",
      "[LightGBM] [Warning] No further splits with positive gain, best gain: -inf\n",
      "[LightGBM] [Warning] No further splits with positive gain, best gain: -inf\n",
      "[LightGBM] [Warning] No further splits with positive gain, best gain: -inf\n",
      "[LightGBM] [Warning] No further splits with positive gain, best gain: -inf\n",
      "[LightGBM] [Warning] No further splits with positive gain, best gain: -inf\n",
      "[LightGBM] [Warning] No further splits with positive gain, best gain: -inf\n",
      "[LightGBM] [Warning] No further splits with positive gain, best gain: -inf\n",
      "[LightGBM] [Warning] No further splits with positive gain, best gain: -inf\n",
      "[LightGBM] [Warning] No further splits with positive gain, best gain: -inf\n",
      "[LightGBM] [Warning] No further splits with positive gain, best gain: -inf\n",
      "[LightGBM] [Warning] No further splits with positive gain, best gain: -inf\n",
      "LightGBM classification report : \n",
      "               precision    recall  f1-score   support\n",
      "\n",
      "           0       0.92      1.00      0.96        73\n",
      "           1       1.00      0.83      0.91        36\n",
      "\n",
      "    accuracy                           0.94       109\n",
      "   macro avg       0.96      0.92      0.93       109\n",
      "weighted avg       0.95      0.94      0.94       109\n",
      "\n"
     ]
    },
    {
     "data": {
      "image/png": "[encoded data removed]",
      "text/plain": [
       "<Figure size 600x400 with 2 Axes>"
      ]
     },
     "metadata": {},
     "output_type": "display_data"
    },
    {
     "name": "stdout",
     "output_type": "stream",
     "text": [
      "XGBoost classification report : \n",
      "               precision    recall  f1-score   support\n",
      "\n",
      "           0       0.96      1.00      0.98        73\n",
      "           1       1.00      0.92      0.96        36\n",
      "\n",
      "    accuracy                           0.97       109\n",
      "   macro avg       0.98      0.96      0.97       109\n",
      "weighted avg       0.97      0.97      0.97       109\n",
      "\n"
     ]
    },
    {
     "data": {
      "image/png": "[encoded data removed]",
      "text/plain": [
       "<Figure size 600x400 with 2 Axes>"
      ]
     },
     "metadata": {},
     "output_type": "display_data"
    }
   ],
   "source": [
    "models = {'Logistic Regression': LogisticRegression(random_state=42),\n",
    "          'SVM': SVC(random_state=42),\n",
    "          'Decision Tree': DecisionTreeClassifier(random_state=42),\n",
    "          'Random Forest': RandomForestClassifier(random_state=42),\n",
    "          'LightGBM': LGBMClassifier(random_state=42),\n",
    "          'XGBoost': XGBClassifier(random_state=42)}\n",
    "\n",
    "columns = ['Model', 'Accuracy', 'F1-score', 'Jaccard score', 'AUC score', 'Precision', 'Recall']\n",
    "result_df = pd.DataFrame(columns=columns)\n",
    "results=[]\n",
    "\n",
    "def evaluate_model(model, X_train, y_train, X_test, y_test, model_name, result_df):\n",
    "    model.fit(X_train, y_train)\n",
    "    y_pred = model.predict(X_test)\n",
    "    \n",
    "    accuracy = accuracy_score(y_test, y_pred)\n",
    "    f1 = f1_score(y_test, y_pred, average='weighted')\n",
    "    jaccard = jaccard_score(y_test, y_pred)\n",
    "    auc = roc_auc_score(y_test, y_pred)\n",
    "    precision = precision_score(y_test, y_pred, average='weighted')\n",
    "    recall = recall_score(y_test, y_pred, average='weighted')\n",
    "    results.append(accuracy)\n",
    "\n",
    "    # Confusion Matrix ve Classification Report\n",
    "    cm = confusion_matrix(y_test, y_pred)\n",
    "    cr = classification_report(y_test, y_pred)\n",
    "\n",
    "    print(f\"{model_name} classification report : \\n {cr}\" )\n",
    "    #disp = ConfusionMatrixDisplay(confusion_matrix=cm, display_labels=[0,1], )\n",
    "    #print(f\"{model_name} Confusion Matrix:\", disp.plot())\n",
    "    #disp.plot()\n",
    "\n",
    "    plt.figure(figsize=(6, 4))\n",
    "    sns.heatmap(cm, annot=True, fmt=\"d\", cmap=\"RdPu\", xticklabels=model.classes_, yticklabels=model.classes_, annot_kws={'size': 15, 'fontweight': 'semibold'})\n",
    "    plt.xlabel('Predicted')\n",
    "    plt.ylabel('True Values')\n",
    "    plt.title('Confusion Matrix')\n",
    "    plt.show()\n",
    "\n",
    "    result_df = result_df._append({\n",
    "        'Model': model_name,\n",
    "        'Accuracy': accuracy,\n",
    "        'Jaccard score': jaccard,\n",
    "        'AUC score': auc,\n",
    "        'Precision': precision,\n",
    "        'Recall': recall,\n",
    "        'F1-score': f1\n",
    "    }, ignore_index=True)\n",
    "\n",
    "    \n",
    "    return result_df\n",
    "\n",
    "for model_name, model in models.items():\n",
    "    result_df = evaluate_model(model, X_train, y_train, X_test, y_test, model_name, result_df)"
   ]
  },
  {
   "cell_type": "code",
   "execution_count": 21,
   "metadata": {},
   "outputs": [
    {
     "data": {
      "text/html": [
       "<div>\n",
       "<style scoped>\n",
       "    .dataframe tbody tr th:only-of-type {\n",
       "        vertical-align: middle;\n",
       "    }\n",
       "\n",
       "    .dataframe tbody tr th {\n",
       "        vertical-align: top;\n",
       "    }\n",
       "\n",
       "    .dataframe thead th {\n",
       "        text-align: right;\n",
       "    }\n",
       "</style>\n",
       "<table border=\"1\" class=\"dataframe\">\n",
       "  <thead>\n",
       "    <tr style=\"text-align: right;\">\n",
       "      <th></th>\n",
       "      <th>Model</th>\n",
       "      <th>Accuracy</th>\n",
       "      <th>F1-score</th>\n",
       "      <th>Jaccard score</th>\n",
       "      <th>AUC score</th>\n",
       "      <th>Precision</th>\n",
       "      <th>Recall</th>\n",
       "    </tr>\n",
       "  </thead>\n",
       "  <tbody>\n",
       "    <tr>\n",
       "      <th>0</th>\n",
       "      <td>Logistic Regression</td>\n",
       "      <td>0.944954</td>\n",
       "      <td>0.943538</td>\n",
       "      <td>0.833333</td>\n",
       "      <td>0.916667</td>\n",
       "      <td>0.949135</td>\n",
       "      <td>0.944954</td>\n",
       "    </tr>\n",
       "    <tr>\n",
       "      <th>1</th>\n",
       "      <td>SVM</td>\n",
       "      <td>0.917431</td>\n",
       "      <td>0.913931</td>\n",
       "      <td>0.750000</td>\n",
       "      <td>0.875000</td>\n",
       "      <td>0.926494</td>\n",
       "      <td>0.917431</td>\n",
       "    </tr>\n",
       "    <tr>\n",
       "      <th>2</th>\n",
       "      <td>Decision Tree</td>\n",
       "      <td>0.853211</td>\n",
       "      <td>0.850851</td>\n",
       "      <td>0.619048</td>\n",
       "      <td>0.820015</td>\n",
       "      <td>0.851096</td>\n",
       "      <td>0.853211</td>\n",
       "    </tr>\n",
       "    <tr>\n",
       "      <th>3</th>\n",
       "      <td>Random Forest</td>\n",
       "      <td>0.944954</td>\n",
       "      <td>0.943538</td>\n",
       "      <td>0.833333</td>\n",
       "      <td>0.916667</td>\n",
       "      <td>0.949135</td>\n",
       "      <td>0.944954</td>\n",
       "    </tr>\n",
       "    <tr>\n",
       "      <th>4</th>\n",
       "      <td>LightGBM</td>\n",
       "      <td>0.944954</td>\n",
       "      <td>0.943538</td>\n",
       "      <td>0.833333</td>\n",
       "      <td>0.916667</td>\n",
       "      <td>0.949135</td>\n",
       "      <td>0.944954</td>\n",
       "    </tr>\n",
       "    <tr>\n",
       "      <th>5</th>\n",
       "      <td>XGBoost</td>\n",
       "      <td>0.972477</td>\n",
       "      <td>0.972156</td>\n",
       "      <td>0.916667</td>\n",
       "      <td>0.958333</td>\n",
       "      <td>0.973563</td>\n",
       "      <td>0.972477</td>\n",
       "    </tr>\n",
       "  </tbody>\n",
       "</table>\n",
       "</div>"
      ],
      "text/plain": [
       "                 Model  Accuracy  F1-score  Jaccard score  AUC score  \\\n",
       "0  Logistic Regression  0.944954  0.943538       0.833333   0.916667   \n",
       "1                  SVM  0.917431  0.913931       0.750000   0.875000   \n",
       "2        Decision Tree  0.853211  0.850851       0.619048   0.820015   \n",
       "3        Random Forest  0.944954  0.943538       0.833333   0.916667   \n",
       "4             LightGBM  0.944954  0.943538       0.833333   0.916667   \n",
       "5              XGBoost  0.972477  0.972156       0.916667   0.958333   \n",
       "\n",
       "   Precision    Recall  \n",
       "0   0.949135  0.944954  \n",
       "1   0.926494  0.917431  \n",
       "2   0.851096  0.853211  \n",
       "3   0.949135  0.944954  \n",
       "4   0.949135  0.944954  \n",
       "5   0.973563  0.972477  "
      ]
     },
     "execution_count": 21,
     "metadata": {},
     "output_type": "execute_result"
    }
   ],
   "source": [
    "result_df"
   ]
  },
  {
   "cell_type": "code",
   "execution_count": 23,
   "metadata": {},
   "outputs": [
    {
     "data": {
      "text/plain": [
       "[0.944954128440367,\n",
       " 0.9174311926605505,\n",
       " 0.8532110091743119,\n",
       " 0.944954128440367,\n",
       " 0.944954128440367,\n",
       " 0.9724770642201835]"
      ]
     },
     "execution_count": 23,
     "metadata": {},
     "output_type": "execute_result"
    }
   ],
   "source": [
    "results"
   ]
  },
  {
   "cell_type": "code",
   "execution_count": 29,
   "metadata": {},
   "outputs": [
    {
     "data": {
      "image/png": "[encoded data removed]",
      "text/plain": [
       "<Figure size 1000x600 with 1 Axes>"
      ]
     },
     "metadata": {},
     "output_type": "display_data"
    }
   ],
   "source": [
    "names = ['Logistic', 'SVM', 'Decision Tree', 'Random Forest',  'LGBM', 'XGBoost']\n",
    "fig = plt.figure(figsize=(10,6))\n",
    "fig.suptitle('Comparison of Algorithms')\n",
    "new_results = []\n",
    "for i in range(len(results)):\n",
    "    new_results.append(results[i])\n",
    "plt.bar(names, new_results, color ='deeppink', width = 0.5)\n",
    "plt.show()"
   ]
  },
  {
   "cell_type": "markdown",
   "metadata": {},
   "source": [
    "---"
   ]
  },
  {
   "cell_type": "code",
   "execution_count": 31,
   "metadata": {},
   "outputs": [],
   "source": [
    "parametre_grids = {\n",
    "    #'Logistic Regression': {'C': [0.001, 0.01, 0.1, 1, 10, 100]},\n",
    "    #'SVM': {'C': [0.001, 0.01, 0.1, 1, 10, 100], 'gamma': [0.001, 0.01, 0.1, 1]},\n",
    "    #'Decision Tree': {'max_depth': [None, 10, 20, 30], 'min_samples_split': [2, 5, 10]},\n",
    "    'Random Forest': {'n_estimators': [50, 100, 200], 'max_depth': [5, 10, 20, 30], 'min_samples_split': [2, 5, 10]},\n",
    "    #'LightGBM': {'num_leaves': [31, 50, 100], 'learning_rate': [0.01, 0.05, 0.1],\"n_estimators\": [300, 500, 1000],\"random_state\": [42, 45, 100]},\n",
    "    #'XGBoost': {'n_estimators': [2000,2500], 'learning_rate': [0.01, 0.05, 0.1], \"random_state\": [100,42,45], 'scale_pos_weight': [1,2,3]\n",
    "              #\"max_depth\": [2,3,4],\n",
    "              #\"subsample\": [0.6, 0.8],\n",
    "              #\"max_bin\": [256],\n",
    "            #'min_child_weight': 1,\n",
    "            #'colsample_bytree': 0.8,\n",
    "            #'gamma': 0,\n",
    "            }\n",
    "\n",
    "\n",
    "models = {#'Logistic Regression': LogisticRegression(random_state=42),\n",
    "          #'SVM': SVC(random_state=42),\n",
    "          #'Decision Tree': DecisionTreeClassifier(random_state=42),\n",
    "          'Random Forest': RandomForestClassifier(random_state=42),\n",
    "          #'LightGBM': LGBMClassifier(random_state=42),\n",
    "          #'XGBoost': XGBClassifier(random_state=42)\n",
    "          }"
   ]
  },
  {
   "cell_type": "code",
   "execution_count": 32,
   "metadata": {},
   "outputs": [
    {
     "name": "stdout",
     "output_type": "stream",
     "text": [
      "Fitting 3 folds for each of 36 candidates, totalling 108 fits\n",
      "Fitting 3 folds for each of 36 candidates, totalling 108 fits\n",
      "Fitting 3 folds for each of 36 candidates, totalling 108 fits\n",
      "Fitting 3 folds for each of 36 candidates, totalling 108 fits\n",
      "Random Forest Best Parameters: \n",
      " {'max_depth': 10, 'min_samples_split': 10, 'n_estimators': 100}\n",
      "Random Forest classification report : \n",
      "               precision    recall  f1-score   support\n",
      "\n",
      "           0       0.94      1.00      0.97        73\n",
      "           1       1.00      0.86      0.93        36\n",
      "\n",
      "    accuracy                           0.95       109\n",
      "   macro avg       0.97      0.93      0.95       109\n",
      "weighted avg       0.96      0.95      0.95       109\n",
      "\n",
      "Random Forest Confusion Matrix: <sklearn.metrics._plot.confusion_matrix.ConfusionMatrixDisplay object at 0x000001FC77E217B0>\n"
     ]
    },
    {
     "data": {
      "image/png": "[encoded data removed]",
      "text/plain": [
       "<Figure size 640x480 with 2 Axes>"
      ]
     },
     "metadata": {},
     "output_type": "display_data"
    }
   ],
   "source": [
    "cv = StratifiedKFold(n_splits=3, shuffle=True, random_state=42)\n",
    "\n",
    "columns = ['Model', 'Test Set Accuracy', 'F1-score', 'Jaccard score', 'AUC score', 'Precision', 'Recall']\n",
    "result_df_tuned = pd.DataFrame(columns=columns)\n",
    "\n",
    "for model_name, model in models.items():\n",
    "    grid_search = GridSearchCV(estimator=model, param_grid=parametre_grids[model_name], scoring='accuracy', cv=cv, verbose=1)\n",
    "    results = cross_val_score(grid_search, X_train, y_train, cv = cv)\n",
    "    grid_search.fit(X_train, y_train)\n",
    "    \n",
    "    best_params = grid_search.best_params_\n",
    "    print(f\"{model_name} Best Parameters: \\n {best_params}\")\n",
    "    best_model = grid_search.best_estimator_\n",
    "    \n",
    "    y_pred = best_model.predict(X_test)\n",
    "    accuracy = accuracy_score(y_test, y_pred)\n",
    "    f1 = f1_score(y_test, y_pred, average='weighted')\n",
    "    jaccard = jaccard_score(y_test, y_pred)\n",
    "    auc = roc_auc_score(y_test, y_pred)\n",
    "    precision = precision_score(y_test, y_pred, average='weighted')\n",
    "    recall = recall_score(y_test, y_pred, average='weighted')\n",
    "    cm = confusion_matrix(y_test, y_pred)\n",
    "    cr = classification_report(y_test, y_pred)\n",
    "\n",
    "    print(f\"{model_name} classification report : \\n {cr}\" )\n",
    "    disp = ConfusionMatrixDisplay(confusion_matrix=cm, display_labels=[0,1], )\n",
    "    print(f\"{model_name} Confusion Matrix:\", disp.plot())\n",
    "    #disp.plot()\n",
    "    \n",
    "    result_df_tuned = result_df_tuned._append({\n",
    "        'Model': model_name,\n",
    "        'Test Set Accuracy': accuracy,\n",
    "        'F1-score': f1,\n",
    "        'Jaccard score': jaccard,\n",
    "        'AUC score': auc,\n",
    "        'Precision': precision,\n",
    "        'Recall': recall\n",
    "    }, ignore_index=True)"
   ]
  },
  {
   "cell_type": "code",
   "execution_count": 33,
   "metadata": {},
   "outputs": [
    {
     "data": {
      "text/html": [
       "<div>\n",
       "<style scoped>\n",
       "    .dataframe tbody tr th:only-of-type {\n",
       "        vertical-align: middle;\n",
       "    }\n",
       "\n",
       "    .dataframe tbody tr th {\n",
       "        vertical-align: top;\n",
       "    }\n",
       "\n",
       "    .dataframe thead th {\n",
       "        text-align: right;\n",
       "    }\n",
       "</style>\n",
       "<table border=\"1\" class=\"dataframe\">\n",
       "  <thead>\n",
       "    <tr style=\"text-align: right;\">\n",
       "      <th></th>\n",
       "      <th>Model</th>\n",
       "      <th>Test Set Accuracy</th>\n",
       "      <th>F1-score</th>\n",
       "      <th>Jaccard score</th>\n",
       "      <th>AUC score</th>\n",
       "      <th>Precision</th>\n",
       "      <th>Recall</th>\n",
       "    </tr>\n",
       "  </thead>\n",
       "  <tbody>\n",
       "    <tr>\n",
       "      <th>0</th>\n",
       "      <td>Random Forest</td>\n",
       "      <td>0.954128</td>\n",
       "      <td>0.953176</td>\n",
       "      <td>0.861111</td>\n",
       "      <td>0.930556</td>\n",
       "      <td>0.957069</td>\n",
       "      <td>0.954128</td>\n",
       "    </tr>\n",
       "  </tbody>\n",
       "</table>\n",
       "</div>"
      ],
      "text/plain": [
       "           Model  Test Set Accuracy  F1-score  Jaccard score  AUC score  \\\n",
       "0  Random Forest           0.954128  0.953176       0.861111   0.930556   \n",
       "\n",
       "   Precision    Recall  \n",
       "0   0.957069  0.954128  "
      ]
     },
     "execution_count": 33,
     "metadata": {},
     "output_type": "execute_result"
    }
   ],
   "source": [
    "result_df_tuned"
   ]
  },
  {
   "cell_type": "code",
   "execution_count": null,
   "metadata": {},
   "outputs": [],
   "source": [
    "cm = confusion_matrix(y_test, y_pred)\n",
    "\n",
    "# Karışıklık matrisini bir ısı haritasıyla görselleştirin\n",
    "plt.figure(figsize=(8, 6))\n",
    "sns.heatmap(cm, annot=True, fmt=\"d\", cmap=\"Oranges\", xticklabels=rfc.classes_, yticklabels=rfc.classes_)\n",
    "plt.xlabel('Predicted')\n",
    "plt.ylabel('True Values')\n",
    "plt.title('Confusion Matrix')\n",
    "plt.show()"
   ]
  },
  {
   "cell_type": "code",
   "execution_count": null,
   "metadata": {},
   "outputs": [],
   "source": [
    "plt.figure(figsize=(8, 6))\n",
    "sns.heatmap(conf_matrix, annot=True, fmt='d', cmap='Greens', cbar=False)\n",
    "plt.title('Confusion Matrix')\n",
    "plt.xlabel('Predicted Labels')\n",
    "plt.ylabel('True Labels')\n",
    "plt.show()"
   ]
  }
 ],
 "metadata": {
  "kernelspec": {
   "display_name": "Python 3",
   "language": "python",
   "name": "python3"
  },
  "language_info": {
   "codemirror_mode": {
    "name": "ipython",
    "version": 3
   },
   "file_extension": ".py",
   "mimetype": "text/x-python",
   "name": "python",
   "nbconvert_exporter": "python",
   "pygments_lexer": "ipython3",
   "version": "3.10.13"
  }
 },
 "nbformat": 4,
 "nbformat_minor": 2
}
